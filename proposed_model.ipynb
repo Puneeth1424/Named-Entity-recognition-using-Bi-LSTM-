{
  "cells": [
    {
      "cell_type": "code",
      "execution_count": null,
      "metadata": {
        "colab": {
          "base_uri": "https://localhost:8080/"
        },
        "id": "JPUO3Wd6-Gpn",
        "outputId": "9e85d25c-6a0d-464a-ecc4-a73e91862ef5"
      },
      "outputs": [
        {
          "name": "stdout",
          "output_type": "stream",
          "text": [
            "Mounted at /content/drive\n"
          ]
        }
      ],
      "source": [
        "from google.colab import drive\n",
        "drive.mount('/content/drive')"
      ]
    },
    {
      "cell_type": "code",
      "execution_count": null,
      "metadata": {
        "id": "1O4B5MXK97qa"
      },
      "outputs": [],
      "source": [
        "\n",
        "import numpy as np # linear algebra\n",
        "import pandas as pd # data processing, CSV file I/O (e.g. pd.read_csv)"
      ]
    },
    {
      "cell_type": "code",
      "execution_count": null,
      "metadata": {
        "colab": {
          "base_uri": "https://localhost:8080/"
        },
        "id": "oLK7Y1jiNXDa",
        "outputId": "85d80eaf-ce00-47cf-d984-038bf67ad457"
      },
      "outputs": [
        {
          "name": "stdout",
          "output_type": "stream",
          "text": [
            "Tensorflow version: 2.7.0\n"
          ]
        }
      ],
      "source": [
        "%matplotlib inline\n",
        "import matplotlib.pyplot as plt\n",
        "np.random.seed(0)\n",
        "plt.style.use(\"ggplot\")\n",
        "\n",
        "import tensorflow as tf\n",
        "print('Tensorflow version:', tf.__version__)"
      ]
    },
    {
      "cell_type": "code",
      "execution_count": null,
      "metadata": {
        "colab": {
          "base_uri": "https://localhost:8080/",
          "height": 990
        },
        "id": "mCKmz4SAbI_m",
        "outputId": "1e043a55-2e0c-442a-9b30-2ee2640b8a4d"
      },
      "outputs": [
        {
          "data": {
            "text/html": [
              "\n",
              "  <div id=\"df-1906cc6f-1a36-4cdc-8fcd-bc8412c1b272\">\n",
              "    <div class=\"colab-df-container\">\n",
              "      <div>\n",
              "<style scoped>\n",
              "    .dataframe tbody tr th:only-of-type {\n",
              "        vertical-align: middle;\n",
              "    }\n",
              "\n",
              "    .dataframe tbody tr th {\n",
              "        vertical-align: top;\n",
              "    }\n",
              "\n",
              "    .dataframe thead th {\n",
              "        text-align: right;\n",
              "    }\n",
              "</style>\n",
              "<table border=\"1\" class=\"dataframe\">\n",
              "  <thead>\n",
              "    <tr style=\"text-align: right;\">\n",
              "      <th></th>\n",
              "      <th>Sentence #</th>\n",
              "      <th>Word</th>\n",
              "      <th>POS</th>\n",
              "      <th>Tag</th>\n",
              "    </tr>\n",
              "  </thead>\n",
              "  <tbody>\n",
              "    <tr>\n",
              "      <th>0</th>\n",
              "      <td>Sentence: 1</td>\n",
              "      <td>Thousands</td>\n",
              "      <td>NNS</td>\n",
              "      <td>O</td>\n",
              "    </tr>\n",
              "    <tr>\n",
              "      <th>1</th>\n",
              "      <td>NaN</td>\n",
              "      <td>of</td>\n",
              "      <td>IN</td>\n",
              "      <td>O</td>\n",
              "    </tr>\n",
              "    <tr>\n",
              "      <th>2</th>\n",
              "      <td>NaN</td>\n",
              "      <td>demonstrators</td>\n",
              "      <td>NNS</td>\n",
              "      <td>O</td>\n",
              "    </tr>\n",
              "    <tr>\n",
              "      <th>3</th>\n",
              "      <td>NaN</td>\n",
              "      <td>have</td>\n",
              "      <td>VBP</td>\n",
              "      <td>O</td>\n",
              "    </tr>\n",
              "    <tr>\n",
              "      <th>4</th>\n",
              "      <td>NaN</td>\n",
              "      <td>marched</td>\n",
              "      <td>VBN</td>\n",
              "      <td>O</td>\n",
              "    </tr>\n",
              "    <tr>\n",
              "      <th>5</th>\n",
              "      <td>NaN</td>\n",
              "      <td>through</td>\n",
              "      <td>IN</td>\n",
              "      <td>O</td>\n",
              "    </tr>\n",
              "    <tr>\n",
              "      <th>6</th>\n",
              "      <td>NaN</td>\n",
              "      <td>London</td>\n",
              "      <td>NNP</td>\n",
              "      <td>B-geo</td>\n",
              "    </tr>\n",
              "    <tr>\n",
              "      <th>7</th>\n",
              "      <td>NaN</td>\n",
              "      <td>to</td>\n",
              "      <td>TO</td>\n",
              "      <td>O</td>\n",
              "    </tr>\n",
              "    <tr>\n",
              "      <th>8</th>\n",
              "      <td>NaN</td>\n",
              "      <td>protest</td>\n",
              "      <td>VB</td>\n",
              "      <td>O</td>\n",
              "    </tr>\n",
              "    <tr>\n",
              "      <th>9</th>\n",
              "      <td>NaN</td>\n",
              "      <td>the</td>\n",
              "      <td>DT</td>\n",
              "      <td>O</td>\n",
              "    </tr>\n",
              "    <tr>\n",
              "      <th>10</th>\n",
              "      <td>NaN</td>\n",
              "      <td>war</td>\n",
              "      <td>NN</td>\n",
              "      <td>O</td>\n",
              "    </tr>\n",
              "    <tr>\n",
              "      <th>11</th>\n",
              "      <td>NaN</td>\n",
              "      <td>in</td>\n",
              "      <td>IN</td>\n",
              "      <td>O</td>\n",
              "    </tr>\n",
              "    <tr>\n",
              "      <th>12</th>\n",
              "      <td>NaN</td>\n",
              "      <td>Iraq</td>\n",
              "      <td>NNP</td>\n",
              "      <td>B-geo</td>\n",
              "    </tr>\n",
              "    <tr>\n",
              "      <th>13</th>\n",
              "      <td>NaN</td>\n",
              "      <td>and</td>\n",
              "      <td>CC</td>\n",
              "      <td>O</td>\n",
              "    </tr>\n",
              "    <tr>\n",
              "      <th>14</th>\n",
              "      <td>NaN</td>\n",
              "      <td>demand</td>\n",
              "      <td>VB</td>\n",
              "      <td>O</td>\n",
              "    </tr>\n",
              "    <tr>\n",
              "      <th>15</th>\n",
              "      <td>NaN</td>\n",
              "      <td>the</td>\n",
              "      <td>DT</td>\n",
              "      <td>O</td>\n",
              "    </tr>\n",
              "    <tr>\n",
              "      <th>16</th>\n",
              "      <td>NaN</td>\n",
              "      <td>withdrawal</td>\n",
              "      <td>NN</td>\n",
              "      <td>O</td>\n",
              "    </tr>\n",
              "    <tr>\n",
              "      <th>17</th>\n",
              "      <td>NaN</td>\n",
              "      <td>of</td>\n",
              "      <td>IN</td>\n",
              "      <td>O</td>\n",
              "    </tr>\n",
              "    <tr>\n",
              "      <th>18</th>\n",
              "      <td>NaN</td>\n",
              "      <td>British</td>\n",
              "      <td>JJ</td>\n",
              "      <td>B-gpe</td>\n",
              "    </tr>\n",
              "    <tr>\n",
              "      <th>19</th>\n",
              "      <td>NaN</td>\n",
              "      <td>troops</td>\n",
              "      <td>NNS</td>\n",
              "      <td>O</td>\n",
              "    </tr>\n",
              "    <tr>\n",
              "      <th>20</th>\n",
              "      <td>NaN</td>\n",
              "      <td>from</td>\n",
              "      <td>IN</td>\n",
              "      <td>O</td>\n",
              "    </tr>\n",
              "    <tr>\n",
              "      <th>21</th>\n",
              "      <td>NaN</td>\n",
              "      <td>that</td>\n",
              "      <td>DT</td>\n",
              "      <td>O</td>\n",
              "    </tr>\n",
              "    <tr>\n",
              "      <th>22</th>\n",
              "      <td>NaN</td>\n",
              "      <td>country</td>\n",
              "      <td>NN</td>\n",
              "      <td>O</td>\n",
              "    </tr>\n",
              "    <tr>\n",
              "      <th>23</th>\n",
              "      <td>NaN</td>\n",
              "      <td>.</td>\n",
              "      <td>.</td>\n",
              "      <td>O</td>\n",
              "    </tr>\n",
              "    <tr>\n",
              "      <th>24</th>\n",
              "      <td>Sentence: 2</td>\n",
              "      <td>Families</td>\n",
              "      <td>NNS</td>\n",
              "      <td>O</td>\n",
              "    </tr>\n",
              "    <tr>\n",
              "      <th>25</th>\n",
              "      <td>NaN</td>\n",
              "      <td>of</td>\n",
              "      <td>IN</td>\n",
              "      <td>O</td>\n",
              "    </tr>\n",
              "    <tr>\n",
              "      <th>26</th>\n",
              "      <td>NaN</td>\n",
              "      <td>soldiers</td>\n",
              "      <td>NNS</td>\n",
              "      <td>O</td>\n",
              "    </tr>\n",
              "    <tr>\n",
              "      <th>27</th>\n",
              "      <td>NaN</td>\n",
              "      <td>killed</td>\n",
              "      <td>VBN</td>\n",
              "      <td>O</td>\n",
              "    </tr>\n",
              "    <tr>\n",
              "      <th>28</th>\n",
              "      <td>NaN</td>\n",
              "      <td>in</td>\n",
              "      <td>IN</td>\n",
              "      <td>O</td>\n",
              "    </tr>\n",
              "    <tr>\n",
              "      <th>29</th>\n",
              "      <td>NaN</td>\n",
              "      <td>the</td>\n",
              "      <td>DT</td>\n",
              "      <td>O</td>\n",
              "    </tr>\n",
              "  </tbody>\n",
              "</table>\n",
              "</div>\n",
              "      <button class=\"colab-df-convert\" onclick=\"convertToInteractive('df-1906cc6f-1a36-4cdc-8fcd-bc8412c1b272')\"\n",
              "              title=\"Convert this dataframe to an interactive table.\"\n",
              "              style=\"display:none;\">\n",
              "        \n",
              "  <svg xmlns=\"http://www.w3.org/2000/svg\" height=\"24px\"viewBox=\"0 0 24 24\"\n",
              "       width=\"24px\">\n",
              "    <path d=\"M0 0h24v24H0V0z\" fill=\"none\"/>\n",
              "    <path d=\"M18.56 5.44l.94 2.06.94-2.06 2.06-.94-2.06-.94-.94-2.06-.94 2.06-2.06.94zm-11 1L8.5 8.5l.94-2.06 2.06-.94-2.06-.94L8.5 2.5l-.94 2.06-2.06.94zm10 10l.94 2.06.94-2.06 2.06-.94-2.06-.94-.94-2.06-.94 2.06-2.06.94z\"/><path d=\"M17.41 7.96l-1.37-1.37c-.4-.4-.92-.59-1.43-.59-.52 0-1.04.2-1.43.59L10.3 9.45l-7.72 7.72c-.78.78-.78 2.05 0 2.83L4 21.41c.39.39.9.59 1.41.59.51 0 1.02-.2 1.41-.59l7.78-7.78 2.81-2.81c.8-.78.8-2.07 0-2.86zM5.41 20L4 18.59l7.72-7.72 1.47 1.35L5.41 20z\"/>\n",
              "  </svg>\n",
              "      </button>\n",
              "      \n",
              "  <style>\n",
              "    .colab-df-container {\n",
              "      display:flex;\n",
              "      flex-wrap:wrap;\n",
              "      gap: 12px;\n",
              "    }\n",
              "\n",
              "    .colab-df-convert {\n",
              "      background-color: #E8F0FE;\n",
              "      border: none;\n",
              "      border-radius: 50%;\n",
              "      cursor: pointer;\n",
              "      display: none;\n",
              "      fill: #1967D2;\n",
              "      height: 32px;\n",
              "      padding: 0 0 0 0;\n",
              "      width: 32px;\n",
              "    }\n",
              "\n",
              "    .colab-df-convert:hover {\n",
              "      background-color: #E2EBFA;\n",
              "      box-shadow: 0px 1px 2px rgba(60, 64, 67, 0.3), 0px 1px 3px 1px rgba(60, 64, 67, 0.15);\n",
              "      fill: #174EA6;\n",
              "    }\n",
              "\n",
              "    [theme=dark] .colab-df-convert {\n",
              "      background-color: #3B4455;\n",
              "      fill: #D2E3FC;\n",
              "    }\n",
              "\n",
              "    [theme=dark] .colab-df-convert:hover {\n",
              "      background-color: #434B5C;\n",
              "      box-shadow: 0px 1px 3px 1px rgba(0, 0, 0, 0.15);\n",
              "      filter: drop-shadow(0px 1px 2px rgba(0, 0, 0, 0.3));\n",
              "      fill: #FFFFFF;\n",
              "    }\n",
              "  </style>\n",
              "\n",
              "      <script>\n",
              "        const buttonEl =\n",
              "          document.querySelector('#df-1906cc6f-1a36-4cdc-8fcd-bc8412c1b272 button.colab-df-convert');\n",
              "        buttonEl.style.display =\n",
              "          google.colab.kernel.accessAllowed ? 'block' : 'none';\n",
              "\n",
              "        async function convertToInteractive(key) {\n",
              "          const element = document.querySelector('#df-1906cc6f-1a36-4cdc-8fcd-bc8412c1b272');\n",
              "          const dataTable =\n",
              "            await google.colab.kernel.invokeFunction('convertToInteractive',\n",
              "                                                     [key], {});\n",
              "          if (!dataTable) return;\n",
              "\n",
              "          const docLinkHtml = 'Like what you see? Visit the ' +\n",
              "            '<a target=\"_blank\" href=https://colab.research.google.com/notebooks/data_table.ipynb>data table notebook</a>'\n",
              "            + ' to learn more about interactive tables.';\n",
              "          element.innerHTML = '';\n",
              "          dataTable['output_type'] = 'display_data';\n",
              "          await google.colab.output.renderOutput(dataTable, element);\n",
              "          const docLink = document.createElement('div');\n",
              "          docLink.innerHTML = docLinkHtml;\n",
              "          element.appendChild(docLink);\n",
              "        }\n",
              "      </script>\n",
              "    </div>\n",
              "  </div>\n",
              "  "
            ],
            "text/plain": [
              "     Sentence #           Word  POS    Tag\n",
              "0   Sentence: 1      Thousands  NNS      O\n",
              "1           NaN             of   IN      O\n",
              "2           NaN  demonstrators  NNS      O\n",
              "3           NaN           have  VBP      O\n",
              "4           NaN        marched  VBN      O\n",
              "5           NaN        through   IN      O\n",
              "6           NaN         London  NNP  B-geo\n",
              "7           NaN             to   TO      O\n",
              "8           NaN        protest   VB      O\n",
              "9           NaN            the   DT      O\n",
              "10          NaN            war   NN      O\n",
              "11          NaN             in   IN      O\n",
              "12          NaN           Iraq  NNP  B-geo\n",
              "13          NaN            and   CC      O\n",
              "14          NaN         demand   VB      O\n",
              "15          NaN            the   DT      O\n",
              "16          NaN     withdrawal   NN      O\n",
              "17          NaN             of   IN      O\n",
              "18          NaN        British   JJ  B-gpe\n",
              "19          NaN         troops  NNS      O\n",
              "20          NaN           from   IN      O\n",
              "21          NaN           that   DT      O\n",
              "22          NaN        country   NN      O\n",
              "23          NaN              .    .      O\n",
              "24  Sentence: 2       Families  NNS      O\n",
              "25          NaN             of   IN      O\n",
              "26          NaN       soldiers  NNS      O\n",
              "27          NaN         killed  VBN      O\n",
              "28          NaN             in   IN      O\n",
              "29          NaN            the   DT      O"
            ]
          },
          "execution_count": 4,
          "metadata": {},
          "output_type": "execute_result"
        }
      ],
      "source": [
        "df=pd.read_csv(\"/content/drive/MyDrive/ner_dataset.csv\",encoding='latin1')\n",
        "df.head(30)"
      ]
    },
    {
      "cell_type": "code",
      "execution_count": null,
      "metadata": {
        "colab": {
          "base_uri": "https://localhost:8080/"
        },
        "id": "riOztP-8NXHT",
        "outputId": "bf554246-b850-440e-a6c5-4b42f734275a"
      },
      "outputs": [
        {
          "data": {
            "text/plain": [
              "Sentence #    1000616\n",
              "Word                0\n",
              "POS                 0\n",
              "Tag                 0\n",
              "dtype: int64"
            ]
          },
          "execution_count": 5,
          "metadata": {},
          "output_type": "execute_result"
        }
      ],
      "source": [
        "df.isnull().sum()"
      ]
    },
    {
      "cell_type": "code",
      "execution_count": null,
      "metadata": {
        "colab": {
          "base_uri": "https://localhost:8080/",
          "height": 206
        },
        "id": "LnUvESm997qg",
        "outputId": "46ecc7a6-51b1-474a-86c0-661e8dee236b"
      },
      "outputs": [
        {
          "data": {
            "text/html": [
              "\n",
              "  <div id=\"df-fa97d43b-1f5a-48e6-aa38-586fe346254d\">\n",
              "    <div class=\"colab-df-container\">\n",
              "      <div>\n",
              "<style scoped>\n",
              "    .dataframe tbody tr th:only-of-type {\n",
              "        vertical-align: middle;\n",
              "    }\n",
              "\n",
              "    .dataframe tbody tr th {\n",
              "        vertical-align: top;\n",
              "    }\n",
              "\n",
              "    .dataframe thead th {\n",
              "        text-align: right;\n",
              "    }\n",
              "</style>\n",
              "<table border=\"1\" class=\"dataframe\">\n",
              "  <thead>\n",
              "    <tr style=\"text-align: right;\">\n",
              "      <th></th>\n",
              "      <th>Sentence #</th>\n",
              "      <th>Word</th>\n",
              "      <th>POS</th>\n",
              "      <th>Tag</th>\n",
              "    </tr>\n",
              "  </thead>\n",
              "  <tbody>\n",
              "    <tr>\n",
              "      <th>0</th>\n",
              "      <td>Sentence: 1</td>\n",
              "      <td>Thousands</td>\n",
              "      <td>NNS</td>\n",
              "      <td>O</td>\n",
              "    </tr>\n",
              "    <tr>\n",
              "      <th>1</th>\n",
              "      <td>Sentence: 1</td>\n",
              "      <td>of</td>\n",
              "      <td>IN</td>\n",
              "      <td>O</td>\n",
              "    </tr>\n",
              "    <tr>\n",
              "      <th>2</th>\n",
              "      <td>Sentence: 1</td>\n",
              "      <td>demonstrators</td>\n",
              "      <td>NNS</td>\n",
              "      <td>O</td>\n",
              "    </tr>\n",
              "    <tr>\n",
              "      <th>3</th>\n",
              "      <td>Sentence: 1</td>\n",
              "      <td>have</td>\n",
              "      <td>VBP</td>\n",
              "      <td>O</td>\n",
              "    </tr>\n",
              "    <tr>\n",
              "      <th>4</th>\n",
              "      <td>Sentence: 1</td>\n",
              "      <td>marched</td>\n",
              "      <td>VBN</td>\n",
              "      <td>O</td>\n",
              "    </tr>\n",
              "  </tbody>\n",
              "</table>\n",
              "</div>\n",
              "      <button class=\"colab-df-convert\" onclick=\"convertToInteractive('df-fa97d43b-1f5a-48e6-aa38-586fe346254d')\"\n",
              "              title=\"Convert this dataframe to an interactive table.\"\n",
              "              style=\"display:none;\">\n",
              "        \n",
              "  <svg xmlns=\"http://www.w3.org/2000/svg\" height=\"24px\"viewBox=\"0 0 24 24\"\n",
              "       width=\"24px\">\n",
              "    <path d=\"M0 0h24v24H0V0z\" fill=\"none\"/>\n",
              "    <path d=\"M18.56 5.44l.94 2.06.94-2.06 2.06-.94-2.06-.94-.94-2.06-.94 2.06-2.06.94zm-11 1L8.5 8.5l.94-2.06 2.06-.94-2.06-.94L8.5 2.5l-.94 2.06-2.06.94zm10 10l.94 2.06.94-2.06 2.06-.94-2.06-.94-.94-2.06-.94 2.06-2.06.94z\"/><path d=\"M17.41 7.96l-1.37-1.37c-.4-.4-.92-.59-1.43-.59-.52 0-1.04.2-1.43.59L10.3 9.45l-7.72 7.72c-.78.78-.78 2.05 0 2.83L4 21.41c.39.39.9.59 1.41.59.51 0 1.02-.2 1.41-.59l7.78-7.78 2.81-2.81c.8-.78.8-2.07 0-2.86zM5.41 20L4 18.59l7.72-7.72 1.47 1.35L5.41 20z\"/>\n",
              "  </svg>\n",
              "      </button>\n",
              "      \n",
              "  <style>\n",
              "    .colab-df-container {\n",
              "      display:flex;\n",
              "      flex-wrap:wrap;\n",
              "      gap: 12px;\n",
              "    }\n",
              "\n",
              "    .colab-df-convert {\n",
              "      background-color: #E8F0FE;\n",
              "      border: none;\n",
              "      border-radius: 50%;\n",
              "      cursor: pointer;\n",
              "      display: none;\n",
              "      fill: #1967D2;\n",
              "      height: 32px;\n",
              "      padding: 0 0 0 0;\n",
              "      width: 32px;\n",
              "    }\n",
              "\n",
              "    .colab-df-convert:hover {\n",
              "      background-color: #E2EBFA;\n",
              "      box-shadow: 0px 1px 2px rgba(60, 64, 67, 0.3), 0px 1px 3px 1px rgba(60, 64, 67, 0.15);\n",
              "      fill: #174EA6;\n",
              "    }\n",
              "\n",
              "    [theme=dark] .colab-df-convert {\n",
              "      background-color: #3B4455;\n",
              "      fill: #D2E3FC;\n",
              "    }\n",
              "\n",
              "    [theme=dark] .colab-df-convert:hover {\n",
              "      background-color: #434B5C;\n",
              "      box-shadow: 0px 1px 3px 1px rgba(0, 0, 0, 0.15);\n",
              "      filter: drop-shadow(0px 1px 2px rgba(0, 0, 0, 0.3));\n",
              "      fill: #FFFFFF;\n",
              "    }\n",
              "  </style>\n",
              "\n",
              "      <script>\n",
              "        const buttonEl =\n",
              "          document.querySelector('#df-fa97d43b-1f5a-48e6-aa38-586fe346254d button.colab-df-convert');\n",
              "        buttonEl.style.display =\n",
              "          google.colab.kernel.accessAllowed ? 'block' : 'none';\n",
              "\n",
              "        async function convertToInteractive(key) {\n",
              "          const element = document.querySelector('#df-fa97d43b-1f5a-48e6-aa38-586fe346254d');\n",
              "          const dataTable =\n",
              "            await google.colab.kernel.invokeFunction('convertToInteractive',\n",
              "                                                     [key], {});\n",
              "          if (!dataTable) return;\n",
              "\n",
              "          const docLinkHtml = 'Like what you see? Visit the ' +\n",
              "            '<a target=\"_blank\" href=https://colab.research.google.com/notebooks/data_table.ipynb>data table notebook</a>'\n",
              "            + ' to learn more about interactive tables.';\n",
              "          element.innerHTML = '';\n",
              "          dataTable['output_type'] = 'display_data';\n",
              "          await google.colab.output.renderOutput(dataTable, element);\n",
              "          const docLink = document.createElement('div');\n",
              "          docLink.innerHTML = docLinkHtml;\n",
              "          element.appendChild(docLink);\n",
              "        }\n",
              "      </script>\n",
              "    </div>\n",
              "  </div>\n",
              "  "
            ],
            "text/plain": [
              "    Sentence #           Word  POS Tag\n",
              "0  Sentence: 1      Thousands  NNS   O\n",
              "1  Sentence: 1             of   IN   O\n",
              "2  Sentence: 1  demonstrators  NNS   O\n",
              "3  Sentence: 1           have  VBP   O\n",
              "4  Sentence: 1        marched  VBN   O"
            ]
          },
          "execution_count": 6,
          "metadata": {},
          "output_type": "execute_result"
        }
      ],
      "source": [
        "df=df.fillna(method='ffill')\n",
        "df.head()"
      ]
    },
    {
      "cell_type": "code",
      "execution_count": null,
      "metadata": {
        "colab": {
          "base_uri": "https://localhost:8080/"
        },
        "id": "ooBn8ufk97qi",
        "outputId": "2eabe01b-b23a-40f0-96df-dead9e6756b9"
      },
      "outputs": [
        {
          "data": {
            "text/plain": [
              "Sentence #    0\n",
              "Word          0\n",
              "POS           0\n",
              "Tag           0\n",
              "dtype: int64"
            ]
          },
          "execution_count": 7,
          "metadata": {},
          "output_type": "execute_result"
        }
      ],
      "source": [
        "df.isnull().sum()"
      ]
    },
    {
      "cell_type": "code",
      "execution_count": null,
      "metadata": {
        "colab": {
          "base_uri": "https://localhost:8080/"
        },
        "id": "ECYzzeMB97qj",
        "outputId": "e7beb493-a435-4b7a-ab78-a05c9d844103"
      },
      "outputs": [
        {
          "data": {
            "text/plain": [
              "O        887908\n",
              "B-geo     37644\n",
              "B-tim     20333\n",
              "B-org     20143\n",
              "I-per     17251\n",
              "B-per     16990\n",
              "I-org     16784\n",
              "B-gpe     15870\n",
              "I-geo      7414\n",
              "I-tim      6528\n",
              "B-art       402\n",
              "B-eve       308\n",
              "I-art       297\n",
              "I-eve       253\n",
              "B-nat       201\n",
              "I-gpe       198\n",
              "I-nat        51\n",
              "Name: Tag, dtype: int64"
            ]
          },
          "execution_count": 8,
          "metadata": {},
          "output_type": "execute_result"
        }
      ],
      "source": [
        "df['Tag'].value_counts()"
      ]
    },
    {
      "cell_type": "code",
      "execution_count": null,
      "metadata": {
        "colab": {
          "base_uri": "https://localhost:8080/"
        },
        "id": "hueSHjTu97qj",
        "outputId": "25974afb-f643-42dc-bb18-a01ed206bcd7"
      },
      "outputs": [
        {
          "data": {
            "text/plain": [
              "17"
            ]
          },
          "execution_count": 9,
          "metadata": {},
          "output_type": "execute_result"
        }
      ],
      "source": [
        "n_tags=df['Tag'].nunique()\n",
        "n_tags"
      ]
    },
    {
      "cell_type": "code",
      "execution_count": null,
      "metadata": {
        "colab": {
          "base_uri": "https://localhost:8080/"
        },
        "id": "1wQWVUc-97qk",
        "outputId": "b920199e-b2cb-491d-fdfb-4e9058fee54f"
      },
      "outputs": [
        {
          "data": {
            "text/plain": [
              "35178"
            ]
          },
          "execution_count": 10,
          "metadata": {},
          "output_type": "execute_result"
        }
      ],
      "source": [
        "n_words=df['Word'].nunique()\n",
        "n_words"
      ]
    },
    {
      "cell_type": "code",
      "execution_count": null,
      "metadata": {
        "id": "vT1khXhX97qk"
      },
      "outputs": [],
      "source": [
        "words=list(set(df['Word']))"
      ]
    },
    {
      "cell_type": "code",
      "execution_count": null,
      "metadata": {
        "id": "bryaaEVl97ql"
      },
      "outputs": [],
      "source": [
        "# words"
      ]
    },
    {
      "cell_type": "code",
      "execution_count": null,
      "metadata": {
        "id": "H-oSLpGs97ql"
      },
      "outputs": [],
      "source": [
        "n_words=len(words)"
      ]
    },
    {
      "cell_type": "code",
      "execution_count": null,
      "metadata": {
        "id": "HqZTIxRf97ql"
      },
      "outputs": [],
      "source": [
        "tags=list(set(df['Tag']))"
      ]
    },
    {
      "cell_type": "code",
      "execution_count": null,
      "metadata": {
        "colab": {
          "base_uri": "https://localhost:8080/"
        },
        "id": "QII3UGdB97ql",
        "outputId": "9b52d4c6-cb61-487a-b5e6-f9f1edf90a8b"
      },
      "outputs": [
        {
          "data": {
            "text/plain": [
              "['I-gpe',\n",
              " 'I-org',\n",
              " 'I-per',\n",
              " 'B-geo',\n",
              " 'B-gpe',\n",
              " 'B-org',\n",
              " 'I-eve',\n",
              " 'B-per',\n",
              " 'B-nat',\n",
              " 'I-geo',\n",
              " 'I-tim',\n",
              " 'B-art',\n",
              " 'O',\n",
              " 'B-tim',\n",
              " 'B-eve',\n",
              " 'I-nat',\n",
              " 'I-art']"
            ]
          },
          "execution_count": 15,
          "metadata": {},
          "output_type": "execute_result"
        }
      ],
      "source": [
        "tags"
      ]
    },
    {
      "cell_type": "code",
      "execution_count": null,
      "metadata": {
        "id": "ekzKgj0f97qm"
      },
      "outputs": [],
      "source": [
        "n_tags=len(tags)"
      ]
    },
    {
      "cell_type": "code",
      "execution_count": null,
      "metadata": {
        "id": "HxvGFPJG97qm"
      },
      "outputs": [],
      "source": [
        "class GetSentence(object):\n",
        "    def __init__(self, data):\n",
        "        self.n_sentence=1\n",
        "        self.data=data\n",
        "        self.empty = False\n",
        "        function=lambda d:[(w, p, t) for w, p, t in zip(d[\"Word\"].values.tolist(),\n",
        "                                                        d[\"POS\"].values.tolist(),\n",
        "                                                        d[\"Tag\"].values.tolist())]\n",
        "\n",
        "        self.group_sent = self.data.groupby(\"Sentence #\").apply(function)\n",
        "        self.all_sentences = [d for d in self.group_sent]"
      ]
    },
    {
      "cell_type": "code",
      "execution_count": null,
      "metadata": {
        "id": "3oVyfZlH97qn"
      },
      "outputs": [],
      "source": [
        "get=GetSentence(df)\n",
        "sentences=get.all_sentences"
      ]
    },
    {
      "cell_type": "code",
      "execution_count": null,
      "metadata": {
        "colab": {
          "base_uri": "https://localhost:8080/"
        },
        "id": "7t_PZ-VH97qn",
        "outputId": "d802a4ea-44d7-4eca-d1df-56c6d895acf0"
      },
      "outputs": [
        {
          "data": {
            "text/plain": [
              "[('Thousands', 'NNS', 'O'),\n",
              " ('of', 'IN', 'O'),\n",
              " ('demonstrators', 'NNS', 'O'),\n",
              " ('have', 'VBP', 'O'),\n",
              " ('marched', 'VBN', 'O'),\n",
              " ('through', 'IN', 'O'),\n",
              " ('London', 'NNP', 'B-geo'),\n",
              " ('to', 'TO', 'O'),\n",
              " ('protest', 'VB', 'O'),\n",
              " ('the', 'DT', 'O'),\n",
              " ('war', 'NN', 'O'),\n",
              " ('in', 'IN', 'O'),\n",
              " ('Iraq', 'NNP', 'B-geo'),\n",
              " ('and', 'CC', 'O'),\n",
              " ('demand', 'VB', 'O'),\n",
              " ('the', 'DT', 'O'),\n",
              " ('withdrawal', 'NN', 'O'),\n",
              " ('of', 'IN', 'O'),\n",
              " ('British', 'JJ', 'B-gpe'),\n",
              " ('troops', 'NNS', 'O'),\n",
              " ('from', 'IN', 'O'),\n",
              " ('that', 'DT', 'O'),\n",
              " ('country', 'NN', 'O'),\n",
              " ('.', '.', 'O')]"
            ]
          },
          "execution_count": 19,
          "metadata": {},
          "output_type": "execute_result"
        }
      ],
      "source": [
        "sentences[0]"
      ]
    },
    {
      "cell_type": "code",
      "execution_count": null,
      "metadata": {
        "colab": {
          "base_uri": "https://localhost:8080/"
        },
        "id": "5nOmnbYa97qn",
        "outputId": "1b722dc1-618b-47b5-d356-a84e92c19210"
      },
      "outputs": [
        {
          "data": {
            "text/plain": [
              "[('He', 'PRP', 'O'),\n",
              " ('said', 'VBD', 'O'),\n",
              " ('last', 'JJ', 'O'),\n",
              " ('week', 'NN', 'O'),\n",
              " (\"'s\", 'POS', 'O'),\n",
              " ('tsunami', 'NN', 'O'),\n",
              " ('and', 'CC', 'O'),\n",
              " ('the', 'DT', 'O'),\n",
              " ('massive', 'JJ', 'O'),\n",
              " ('underwater', 'NN', 'O'),\n",
              " ('earthquake', 'NN', 'O'),\n",
              " ('that', 'WDT', 'O'),\n",
              " ('triggered', 'VBD', 'O'),\n",
              " ('it', 'PRP', 'O'),\n",
              " ('has', 'VBZ', 'O'),\n",
              " ('affected', 'VBN', 'O'),\n",
              " ('millions', 'NNS', 'O'),\n",
              " ('in', 'IN', 'O'),\n",
              " ('Asia', 'NNP', 'B-geo'),\n",
              " ('and', 'CC', 'O'),\n",
              " ('Africa', 'NNP', 'B-geo'),\n",
              " ('.', '.', 'O')]"
            ]
          },
          "execution_count": 20,
          "metadata": {},
          "output_type": "execute_result"
        }
      ],
      "source": [
        "sentences[6]"
      ]
    },
    {
      "cell_type": "code",
      "execution_count": null,
      "metadata": {
        "colab": {
          "base_uri": "https://localhost:8080/"
        },
        "id": "YAY4SrrX97qo",
        "outputId": "5f4da056-57bd-4514-b636-da2c838290fe"
      },
      "outputs": [
        {
          "data": {
            "text/plain": [
              "47959"
            ]
          },
          "execution_count": 21,
          "metadata": {},
          "output_type": "execute_result"
        }
      ],
      "source": [
        "len(sentences)"
      ]
    },
    {
      "cell_type": "code",
      "execution_count": null,
      "metadata": {
        "colab": {
          "base_uri": "https://localhost:8080/"
        },
        "id": "Ps9sZxRa97qo",
        "outputId": "4e192f87-7785-4f56-8c55-cd700a7f373a"
      },
      "outputs": [
        {
          "name": "stdout",
          "output_type": "stream",
          "text": [
            "Maximum sequence length in the list of sentences: 104\n"
          ]
        }
      ],
      "source": [
        "maxl = max([len(s) for s in sentences])\n",
        "print ('Maximum sequence length in the list of sentences:', maxl)"
      ]
    },
    {
      "cell_type": "code",
      "execution_count": null,
      "metadata": {
        "id": "5JQI9-hY97qp"
      },
      "outputs": [],
      "source": [
        "w_index={w:i for i,w in enumerate(words)}\n",
        "t_index={t:j for j,t in enumerate(tags)}"
      ]
    },
    {
      "cell_type": "code",
      "execution_count": null,
      "metadata": {
        "id": "VdJst_g5NYY_"
      },
      "outputs": [],
      "source": [
        "from tensorflow.keras.preprocessing.sequence import pad_sequences\n",
        "from tensorflow.keras.utils import to_categorical"
      ]
    },
    {
      "cell_type": "code",
      "execution_count": null,
      "metadata": {
        "colab": {
          "base_uri": "https://localhost:8080/"
        },
        "id": "nMUQLppspkPj",
        "outputId": "c8c960aa-df00-4c41-b7cf-3aa69c8d52e2"
      },
      "outputs": [
        {
          "data": {
            "text/plain": [
              "104"
            ]
          },
          "execution_count": 25,
          "metadata": {},
          "output_type": "execute_result"
        }
      ],
      "source": [
        "maxl"
      ]
    },
    {
      "cell_type": "code",
      "execution_count": null,
      "metadata": {
        "id": "GhiSTt2UdzYC"
      },
      "outputs": [],
      "source": [
        "X=[[w_index[w[0]]for w in s]for s in sentences]"
      ]
    },
    {
      "cell_type": "code",
      "execution_count": null,
      "metadata": {
        "id": "3x6_jHey97qr"
      },
      "outputs": [],
      "source": [
        "X=pad_sequences(maxlen=maxl,padding='post',sequences=X)"
      ]
    },
    {
      "cell_type": "code",
      "execution_count": null,
      "metadata": {
        "colab": {
          "base_uri": "https://localhost:8080/"
        },
        "id": "SvENHO18pkaQ",
        "outputId": "fef2fa67-5592-48a8-f432-8f12690d3241"
      },
      "outputs": [
        {
          "data": {
            "text/plain": [
              "array([[34954, 26834, 32980, ...,     0,     0,     0],\n",
              "       [32183, 25293, 10679, ...,     0,     0,     0],\n",
              "       [11494, 25367, 16046, ...,     0,     0,     0],\n",
              "       ...,\n",
              "       [11572, 29158, 11898, ...,     0,     0,     0],\n",
              "       [ 2600, 18344,  8241, ...,     0,     0,     0],\n",
              "       [24281, 30815, 20539, ...,     0,     0,     0]], dtype=int32)"
            ]
          },
          "execution_count": 28,
          "metadata": {},
          "output_type": "execute_result"
        }
      ],
      "source": [
        "X"
      ]
    },
    {
      "cell_type": "code",
      "execution_count": null,
      "metadata": {
        "id": "SkxW0iu897qr"
      },
      "outputs": [],
      "source": [
        "Y = [[t_index[w[2]] for w in s] for s in sentences]"
      ]
    },
    {
      "cell_type": "code",
      "execution_count": null,
      "metadata": {
        "id": "_z7MTglp97qr"
      },
      "outputs": [],
      "source": [
        "Y=pad_sequences(maxlen=maxl,padding='post',sequences=Y)"
      ]
    },
    {
      "cell_type": "code",
      "execution_count": null,
      "metadata": {
        "colab": {
          "base_uri": "https://localhost:8080/"
        },
        "id": "mRlH8OF_97qr",
        "outputId": "d39f4280-18fb-4901-b3fd-f92b9f75bd60"
      },
      "outputs": [
        {
          "data": {
            "text/plain": [
              "array([ 4, 12, 12, 12, 12, 12, 12, 12, 12, 12, 12, 12, 12, 12, 12, 13, 12,\n",
              "       12, 12,  5, 12, 12, 12, 12, 12,  0,  0,  0,  0,  0,  0,  0,  0,  0,\n",
              "        0,  0,  0,  0,  0,  0,  0,  0,  0,  0,  0,  0,  0,  0,  0,  0,  0,\n",
              "        0,  0,  0,  0,  0,  0,  0,  0,  0,  0,  0,  0,  0,  0,  0,  0,  0,\n",
              "        0,  0,  0,  0,  0,  0,  0,  0,  0,  0,  0,  0,  0,  0,  0,  0,  0,\n",
              "        0,  0,  0,  0,  0,  0,  0,  0,  0,  0,  0,  0,  0,  0,  0,  0,  0,\n",
              "        0,  0], dtype=int32)"
            ]
          },
          "execution_count": 31,
          "metadata": {},
          "output_type": "execute_result"
        }
      ],
      "source": [
        "Y[1]"
      ]
    },
    {
      "cell_type": "code",
      "execution_count": null,
      "metadata": {
        "id": "X3yCGm1X97qs"
      },
      "outputs": [],
      "source": [
        "# Y"
      ]
    },
    {
      "cell_type": "code",
      "execution_count": null,
      "metadata": {
        "id": "mx6ZcHDt97qs"
      },
      "outputs": [],
      "source": [
        "from sklearn.model_selection import train_test_split"
      ]
    },
    {
      "cell_type": "code",
      "execution_count": null,
      "metadata": {
        "id": "gPgsnxGL97qs"
      },
      "outputs": [],
      "source": [
        "x_train,x_test,y_train,y_test=train_test_split(X,Y,test_size=0.1,random_state=42)"
      ]
    },
    {
      "cell_type": "code",
      "execution_count": null,
      "metadata": {
        "id": "6JXczlqM97qs"
      },
      "outputs": [],
      "source": [
        "from tensorflow.keras.utils import to_categorical"
      ]
    },
    {
      "cell_type": "code",
      "execution_count": null,
      "metadata": {
        "id": "2AFVChPF97qs"
      },
      "outputs": [],
      "source": [
        "y_train =to_categorical(y_train)"
      ]
    },
    {
      "cell_type": "code",
      "execution_count": null,
      "metadata": {
        "colab": {
          "base_uri": "https://localhost:8080/"
        },
        "id": "5SjU_dCb97qt",
        "outputId": "f350167f-9ddc-42ad-dd7e-4ec3577ad576"
      },
      "outputs": [
        {
          "name": "stdout",
          "output_type": "stream",
          "text": [
            "(43163, 104) (43163, 104, 17)\n"
          ]
        }
      ],
      "source": [
        "print(x_train.shape, y_train.shape)"
      ]
    },
    {
      "cell_type": "code",
      "execution_count": null,
      "metadata": {
        "colab": {
          "base_uri": "https://localhost:8080/"
        },
        "id": "94IFWp4g97qt",
        "outputId": "33e28ea0-dae7-45d3-c6e1-d306748300d8"
      },
      "outputs": [
        {
          "name": "stdout",
          "output_type": "stream",
          "text": [
            "(4796, 104) (4796, 104)\n"
          ]
        }
      ],
      "source": [
        "print(x_test.shape, y_test.shape)"
      ]
    },
    {
      "cell_type": "code",
      "execution_count": null,
      "metadata": {
        "id": "FHpFRJos97qt"
      },
      "outputs": [],
      "source": [
        "y_test =to_categorical(y_test)"
      ]
    },
    {
      "cell_type": "code",
      "execution_count": null,
      "metadata": {
        "colab": {
          "base_uri": "https://localhost:8080/"
        },
        "id": "SvmZmqdG97qt",
        "outputId": "fa4e4080-4f8f-4ebc-aa39-07d17f24ff58"
      },
      "outputs": [
        {
          "name": "stdout",
          "output_type": "stream",
          "text": [
            "(4796, 104) (4796, 104, 17)\n"
          ]
        }
      ],
      "source": [
        "print(x_test.shape, y_test.shape)"
      ]
    },
    {
      "cell_type": "code",
      "execution_count": null,
      "metadata": {
        "id": "Y2vM7IkXpkiH"
      },
      "outputs": [],
      "source": [
        "from tensorflow.keras import Model, Input\n",
        "from tensorflow.keras.layers import LSTM, Embedding, Dense\n",
        "from tensorflow.keras.layers import TimeDistributed, SpatialDropout1D, Bidirectional"
      ]
    },
    {
      "cell_type": "code",
      "execution_count": null,
      "metadata": {
        "id": "kOBpQg26pkqh"
      },
      "outputs": [],
      "source": [
        "input=Input(shape=(104))\n",
        "model=Embedding(input_dim=n_words,output_dim=104,input_length=140)(input)\n",
        "model=SpatialDropout1D(0.1)(model)\n",
        "model=Bidirectional(LSTM(units=150,return_sequences=True, recurrent_dropout=0.1))(model)\n",
        "output = TimeDistributed(Dense(n_tags, activation=\"softmax\"))(model)"
      ]
    },
    {
      "cell_type": "code",
      "execution_count": null,
      "metadata": {
        "id": "9J3fC4qV97qu"
      },
      "outputs": [],
      "source": [
        "model=Model(input,output)"
      ]
    },
    {
      "cell_type": "code",
      "execution_count": null,
      "metadata": {
        "colab": {
          "base_uri": "https://localhost:8080/"
        },
        "id": "E7E-obQU97qu",
        "outputId": "8aedb187-752c-4ab0-c41a-ff7fd7b826f5"
      },
      "outputs": [
        {
          "name": "stdout",
          "output_type": "stream",
          "text": [
            "Model: \"model\"\n",
            "_________________________________________________________________\n",
            " Layer (type)                Output Shape              Param #   \n",
            "=================================================================\n",
            " input_1 (InputLayer)        [(None, 104)]             0         \n",
            "                                                                 \n",
            " embedding (Embedding)       (None, 104, 104)          3658512   \n",
            "                                                                 \n",
            " spatial_dropout1d (SpatialD  (None, 104, 104)         0         \n",
            " ropout1D)                                                       \n",
            "                                                                 \n",
            " bidirectional (Bidirectiona  (None, 104, 300)         306000    \n",
            " l)                                                              \n",
            "                                                                 \n",
            " time_distributed (TimeDistr  (None, 104, 17)          5117      \n",
            " ibuted)                                                         \n",
            "                                                                 \n",
            "=================================================================\n",
            "Total params: 3,969,629\n",
            "Trainable params: 3,969,629\n",
            "Non-trainable params: 0\n",
            "_________________________________________________________________\n"
          ]
        }
      ],
      "source": [
        "model.summary()"
      ]
    },
    {
      "cell_type": "code",
      "execution_count": null,
      "metadata": {
        "id": "l7-x-BlX97qv"
      },
      "outputs": [],
      "source": [
        "model.compile(optimizer='adam',loss='categorical_crossentropy',metrics=['accuracy'])"
      ]
    },
    {
      "cell_type": "code",
      "execution_count": null,
      "metadata": {
        "colab": {
          "base_uri": "https://localhost:8080/"
        },
        "id": "9bl8vSenpGOw",
        "outputId": "7f4f0126-5e4f-4a39-fda4-d30cdc2dd049"
      },
      "outputs": [
        {
          "name": "stdout",
          "output_type": "stream",
          "text": [
            "Collecting livelossplot\n",
            "  Downloading livelossplot-0.5.4-py3-none-any.whl (22 kB)\n",
            "Requirement already satisfied: bokeh in /usr/local/lib/python3.7/dist-packages (from livelossplot) (2.3.3)\n",
            "Requirement already satisfied: matplotlib in /usr/local/lib/python3.7/dist-packages (from livelossplot) (3.2.2)\n",
            "Requirement already satisfied: ipython in /usr/local/lib/python3.7/dist-packages (from livelossplot) (5.5.0)\n",
            "Requirement already satisfied: Jinja2>=2.9 in /usr/local/lib/python3.7/dist-packages (from bokeh->livelossplot) (2.11.3)\n",
            "Requirement already satisfied: PyYAML>=3.10 in /usr/local/lib/python3.7/dist-packages (from bokeh->livelossplot) (3.13)\n",
            "Requirement already satisfied: pillow>=7.1.0 in /usr/local/lib/python3.7/dist-packages (from bokeh->livelossplot) (7.1.2)\n",
            "Requirement already satisfied: packaging>=16.8 in /usr/local/lib/python3.7/dist-packages (from bokeh->livelossplot) (21.3)\n",
            "Requirement already satisfied: tornado>=5.1 in /usr/local/lib/python3.7/dist-packages (from bokeh->livelossplot) (5.1.1)\n",
            "Requirement already satisfied: numpy>=1.11.3 in /usr/local/lib/python3.7/dist-packages (from bokeh->livelossplot) (1.19.5)\n",
            "Requirement already satisfied: typing-extensions>=3.7.4 in /usr/local/lib/python3.7/dist-packages (from bokeh->livelossplot) (3.10.0.2)\n",
            "Requirement already satisfied: python-dateutil>=2.1 in /usr/local/lib/python3.7/dist-packages (from bokeh->livelossplot) (2.8.2)\n",
            "Requirement already satisfied: MarkupSafe>=0.23 in /usr/local/lib/python3.7/dist-packages (from Jinja2>=2.9->bokeh->livelossplot) (2.0.1)\n",
            "Requirement already satisfied: pyparsing!=3.0.5,>=2.0.2 in /usr/local/lib/python3.7/dist-packages (from packaging>=16.8->bokeh->livelossplot) (3.0.6)\n",
            "Requirement already satisfied: six>=1.5 in /usr/local/lib/python3.7/dist-packages (from python-dateutil>=2.1->bokeh->livelossplot) (1.15.0)\n",
            "Requirement already satisfied: pygments in /usr/local/lib/python3.7/dist-packages (from ipython->livelossplot) (2.6.1)\n",
            "Requirement already satisfied: prompt-toolkit<2.0.0,>=1.0.4 in /usr/local/lib/python3.7/dist-packages (from ipython->livelossplot) (1.0.18)\n",
            "Requirement already satisfied: traitlets>=4.2 in /usr/local/lib/python3.7/dist-packages (from ipython->livelossplot) (5.1.1)\n",
            "Requirement already satisfied: decorator in /usr/local/lib/python3.7/dist-packages (from ipython->livelossplot) (4.4.2)\n",
            "Requirement already satisfied: pexpect in /usr/local/lib/python3.7/dist-packages (from ipython->livelossplot) (4.8.0)\n",
            "Requirement already satisfied: simplegeneric>0.8 in /usr/local/lib/python3.7/dist-packages (from ipython->livelossplot) (0.8.1)\n",
            "Requirement already satisfied: setuptools>=18.5 in /usr/local/lib/python3.7/dist-packages (from ipython->livelossplot) (57.4.0)\n",
            "Requirement already satisfied: pickleshare in /usr/local/lib/python3.7/dist-packages (from ipython->livelossplot) (0.7.5)\n",
            "Requirement already satisfied: wcwidth in /usr/local/lib/python3.7/dist-packages (from prompt-toolkit<2.0.0,>=1.0.4->ipython->livelossplot) (0.2.5)\n",
            "Requirement already satisfied: kiwisolver>=1.0.1 in /usr/local/lib/python3.7/dist-packages (from matplotlib->livelossplot) (1.3.2)\n",
            "Requirement already satisfied: cycler>=0.10 in /usr/local/lib/python3.7/dist-packages (from matplotlib->livelossplot) (0.11.0)\n",
            "Requirement already satisfied: ptyprocess>=0.5 in /usr/local/lib/python3.7/dist-packages (from pexpect->ipython->livelossplot) (0.7.0)\n",
            "Installing collected packages: livelossplot\n",
            "Successfully installed livelossplot-0.5.4\n"
          ]
        }
      ],
      "source": [
        "!pip install livelossplot"
      ]
    },
    {
      "cell_type": "code",
      "execution_count": null,
      "metadata": {
        "id": "_s8dSR3597qv"
      },
      "outputs": [],
      "source": [
        "from tensorflow.keras.callbacks import ModelCheckpoint, EarlyStopping\n",
        "from livelossplot.tf_keras import PlotLossesCallback"
      ]
    },
    {
      "cell_type": "code",
      "execution_count": null,
      "metadata": {
        "colab": {
          "background_save": true,
          "base_uri": "https://localhost:8080/",
          "height": 707
        },
        "id": "Q9HWH06Ypkxh",
        "outputId": "accbe367-15d3-4831-919f-4e5b1c7acabb"
      },
      "outputs": [
        {
          "data": {
            "image/png": "[encoded data removed]",
            "text/plain": [
              "<Figure size 864x576 with 2 Axes>"
            ]
          },
          "metadata": {},
          "output_type": "display_data"
        },
        {
          "name": "stdout",
          "output_type": "stream",
          "text": [
            "accuracy\n",
            "\ttraining         \t (min:    0.974, max:    0.993, cur:    0.993)\n",
            "\tvalidation       \t (min:    0.991, max:    0.993, cur:    0.993)\n",
            "Loss\n",
            "\ttraining         \t (min:    0.024, max:    0.107, cur:    0.024)\n",
            "\tvalidation       \t (min:    0.025, max:    0.033, cur:    0.025)\n",
            "\b\b\b\b\b\b\b\b\b\b\b\b\b\b\b\b\b\b\b\b\b\b\b\b\b\b\b\b\b\b\b\b\b\b\b\b\b\b\b\b\b\b\b\b\b\b\b\b\b\b\b\b\b\b\b\b\b\b\b\b\b\b\b\b\b\b\b\b\b\b\b\b\b\b\b\b\b\b\b\b\b\b\b\b\b\b\r1080/1080 [==============================] - 797s 738ms/step - loss: 0.0241 - accuracy: 0.9929 - val_loss: 0.0247 - val_accuracy: 0.9927\n"
          ]
        }
      ],
      "source": [
        "early_stop= EarlyStopping(monitor='val_accuracy',patience=1,verbose=0,mode='max',restore_best_weights=False)\n",
        "callbacks=[PlotLossesCallback(),early_stop]\n",
        "\n",
        "history=model.fit(x_train,np.array(y_train),validation_split=0.2,batch_size=32,epochs=2,verbose=1,callbacks=callbacks)"
      ]
    },
    {
      "cell_type": "code",
      "execution_count": null,
      "metadata": {
        "colab": {
          "background_save": true,
          "base_uri": "https://localhost:8080/"
        },
        "id": "0U4qGsqp97qw",
        "outputId": "fffa7835-c654-4027-c020-50190e737ce1"
      },
      "outputs": [
        {
          "name": "stdout",
          "output_type": "stream",
          "text": [
            "150/150 [==============================] - 14s 95ms/step - loss: 0.0247 - accuracy: 0.9926\n"
          ]
        },
        {
          "data": {
            "text/plain": [
              "[0.024748774245381355, 0.9926220774650574]"
            ]
          },
          "execution_count": null,
          "metadata": {},
          "output_type": "execute_result"
        }
      ],
      "source": [
        "model.evaluate(x_test,np.array(y_test))"
      ]
    },
    {
      "cell_type": "code",
      "execution_count": null,
      "metadata": {
        "colab": {
          "background_save": true
        },
        "id": "Cu4QXa6y91cK",
        "outputId": "188b9849-63b7-4da7-cbfe-200c8e4d8ed7"
      },
      "outputs": [
        {
          "name": "stdout",
          "output_type": "stream",
          "text": [
            "150/150 [==============================] - 15s 93ms/step\n"
          ]
        }
      ],
      "source": [
        "test_pred = model.predict(x_test, verbose=1)"
      ]
    },
    {
      "cell_type": "code",
      "execution_count": null,
      "metadata": {
        "colab": {
          "background_save": true
        },
        "id": "MkGkvfHA83sh"
      },
      "outputs": [],
      "source": [
        "i_x = {i: w for w, i in t_index.items()}\n",
        "\n",
        "def pred2label(pred):\n",
        "    out = []\n",
        "    for pred_i in pred:\n",
        "        out_i = []\n",
        "        for p in pred_i:\n",
        "            p_i = np.argmax(p)\n",
        "            out_i.append(i_x[p_i].replace(\"PAD\", \"O\"))\n",
        "        out.append(out_i)\n",
        "    return out\n",
        "\n",
        "pred_labels = pred2label(test_pred)\n",
        "test_labels = pred2label(y_test)"
      ]
    },
    {
      "cell_type": "code",
      "execution_count": null,
      "metadata": {
        "colab": {
          "background_save": true
        },
        "id": "JTCFmthH-a9-",
        "outputId": "4f90a780-41c4-497c-d21f-de3bb90da9ce"
      },
      "outputs": [
        {
          "name": "stdout",
          "output_type": "stream",
          "text": [
            "Collecting seqeval\n",
            "  Downloading seqeval-1.2.2.tar.gz (43 kB)\n",
            "\u001b[?25l\r\u001b[K     |███████▌                        | 10 kB 22.2 MB/s eta 0:00:01\r\u001b[K     |███████████████                 | 20 kB 11.1 MB/s eta 0:00:01\r\u001b[K     |██████████████████████▌         | 30 kB 8.6 MB/s eta 0:00:01\r\u001b[K     |██████████████████████████████  | 40 kB 8.1 MB/s eta 0:00:01\r\u001b[K     |████████████████████████████████| 43 kB 1.1 MB/s \n",
            "\u001b[?25hRequirement already satisfied: numpy>=1.14.0 in /usr/local/lib/python3.7/dist-packages (from seqeval) (1.19.5)\n",
            "Requirement already satisfied: scikit-learn>=0.21.3 in /usr/local/lib/python3.7/dist-packages (from seqeval) (1.0.2)\n",
            "Requirement already satisfied: threadpoolctl>=2.0.0 in /usr/local/lib/python3.7/dist-packages (from scikit-learn>=0.21.3->seqeval) (3.0.0)\n",
            "Requirement already satisfied: scipy>=1.1.0 in /usr/local/lib/python3.7/dist-packages (from scikit-learn>=0.21.3->seqeval) (1.4.1)\n",
            "Requirement already satisfied: joblib>=0.11 in /usr/local/lib/python3.7/dist-packages (from scikit-learn>=0.21.3->seqeval) (1.1.0)\n",
            "Building wheels for collected packages: seqeval\n",
            "  Building wheel for seqeval (setup.py) ... \u001b[?25l\u001b[?25hdone\n",
            "  Created wheel for seqeval: filename=seqeval-1.2.2-py3-none-any.whl size=16180 sha256=2f07daa008525997eeb1db2aa0eac162f30c4f06a61bbe0f2e0289c71f27ff19\n",
            "  Stored in directory: /root/.cache/pip/wheels/05/96/ee/7cac4e74f3b19e3158dce26a20a1c86b3533c43ec72a549fd7\n",
            "Successfully built seqeval\n",
            "Installing collected packages: seqeval\n",
            "Successfully installed seqeval-1.2.2\n"
          ]
        }
      ],
      "source": [
        "!pip install seqeval"
      ]
    },
    {
      "cell_type": "code",
      "execution_count": null,
      "metadata": {
        "colab": {
          "background_save": true
        },
        "id": "nYmiSHA8-VJr",
        "outputId": "cb5e5ec1-4b40-4b76-e225-1d4eba543f9c"
      },
      "outputs": [
        {
          "name": "stderr",
          "output_type": "stream",
          "text": [
            "/usr/local/lib/python3.7/dist-packages/seqeval/metrics/v1.py:57: UndefinedMetricWarning: Precision and F-score are ill-defined and being set to 0.0 in labels with no predicted samples. Use `zero_division` parameter to control this behavior.\n",
            "  _warn_prf(average, modifier, msg_start, len(result))\n"
          ]
        },
        {
          "name": "stdout",
          "output_type": "stream",
          "text": [
            "              precision    recall  f1-score   support\n",
            "\n",
            "         art       0.00      0.00      0.00        46\n",
            "         eve       0.00      0.00      0.00        35\n",
            "         geo       0.84      0.86      0.85      3797\n",
            "         gpe       0.99      0.98      0.98      6386\n",
            "         nat       0.00      0.00      0.00        20\n",
            "         org       0.62      0.66      0.64      2055\n",
            "         per       0.71      0.71      0.71      1668\n",
            "         tim       0.87      0.81      0.84      2033\n",
            "\n",
            "   micro avg       0.86      0.85      0.86     16040\n",
            "   macro avg       0.50      0.50      0.50     16040\n",
            "weighted avg       0.86      0.85      0.86     16040\n",
            "\n"
          ]
        }
      ],
      "source": [
        "from seqeval.metrics import precision_score, recall_score, f1_score, classification_report\n",
        "print(classification_report(test_labels, pred_labels))"
      ]
    },
    {
      "cell_type": "code",
      "execution_count": null,
      "metadata": {
        "colab": {
          "background_save": true
        },
        "id": "JZIzxNDM97qx",
        "outputId": "1c318cee-f36d-47c2-d062-eb4d80a3cb4c"
      },
      "outputs": [
        {
          "name": "stdout",
          "output_type": "stream",
          "text": [
            "Word            (True ): Predicted by our Model\n",
            "----------------------------------------\n",
            "technology-intensiveO\t O\n",
            "linguistic     O\t O\n",
            "Zapatero       O\t O\n",
            "heartless      O\t O\n",
            "wool           O\t O\n",
            "involve        O\t O\n",
            "Mazar-i-Sharif O\t O\n",
            "Minority       O\t O\n",
            "ensures        O\t O\n",
            "comparative    O\t O\n",
            "wisdom         O\t O\n",
            "Resistance     I-gpe\t I-gpe\n",
            "Resistance     I-gpe\t I-gpe\n",
            "Resistance     I-gpe\t I-gpe\n",
            "Resistance     I-gpe\t I-gpe\n",
            "Resistance     I-gpe\t I-gpe\n",
            "Resistance     I-gpe\t I-gpe\n",
            "Resistance     I-gpe\t I-gpe\n",
            "Resistance     I-gpe\t I-gpe\n",
            "Resistance     I-gpe\t I-gpe\n",
            "Resistance     I-gpe\t I-gpe\n",
            "Resistance     I-gpe\t I-gpe\n",
            "Resistance     I-gpe\t I-gpe\n",
            "Resistance     I-gpe\t I-gpe\n",
            "Resistance     I-gpe\t I-gpe\n",
            "Resistance     I-gpe\t I-gpe\n",
            "Resistance     I-gpe\t I-gpe\n",
            "Resistance     I-gpe\t I-gpe\n",
            "Resistance     I-gpe\t I-gpe\n",
            "Resistance     I-gpe\t I-gpe\n",
            "Resistance     I-gpe\t I-gpe\n",
            "Resistance     I-gpe\t I-gpe\n",
            "Resistance     I-gpe\t I-gpe\n",
            "Resistance     I-gpe\t I-gpe\n",
            "Resistance     I-gpe\t I-gpe\n",
            "Resistance     I-gpe\t I-gpe\n",
            "Resistance     I-gpe\t I-gpe\n",
            "Resistance     I-gpe\t I-gpe\n",
            "Resistance     I-gpe\t I-gpe\n",
            "Resistance     I-gpe\t I-gpe\n",
            "Resistance     I-gpe\t I-gpe\n",
            "Resistance     I-gpe\t I-gpe\n",
            "Resistance     I-gpe\t I-gpe\n",
            "Resistance     I-gpe\t I-gpe\n",
            "Resistance     I-gpe\t I-gpe\n",
            "Resistance     I-gpe\t I-gpe\n",
            "Resistance     I-gpe\t I-gpe\n",
            "Resistance     I-gpe\t I-gpe\n",
            "Resistance     I-gpe\t I-gpe\n",
            "Resistance     I-gpe\t I-gpe\n",
            "Resistance     I-gpe\t I-gpe\n",
            "Resistance     I-gpe\t I-gpe\n",
            "Resistance     I-gpe\t I-gpe\n",
            "Resistance     I-gpe\t I-gpe\n",
            "Resistance     I-gpe\t I-gpe\n",
            "Resistance     I-gpe\t I-gpe\n",
            "Resistance     I-gpe\t I-gpe\n",
            "Resistance     I-gpe\t I-gpe\n",
            "Resistance     I-gpe\t I-gpe\n",
            "Resistance     I-gpe\t I-gpe\n",
            "Resistance     I-gpe\t I-gpe\n",
            "Resistance     I-gpe\t I-gpe\n",
            "Resistance     I-gpe\t I-gpe\n",
            "Resistance     I-gpe\t I-gpe\n",
            "Resistance     I-gpe\t I-gpe\n",
            "Resistance     I-gpe\t I-gpe\n",
            "Resistance     I-gpe\t I-gpe\n",
            "Resistance     I-gpe\t I-gpe\n",
            "Resistance     I-gpe\t I-gpe\n",
            "Resistance     I-gpe\t I-gpe\n",
            "Resistance     I-gpe\t I-gpe\n",
            "Resistance     I-gpe\t I-gpe\n",
            "Resistance     I-gpe\t I-gpe\n",
            "Resistance     I-gpe\t I-gpe\n",
            "Resistance     I-gpe\t I-gpe\n",
            "Resistance     I-gpe\t I-gpe\n",
            "Resistance     I-gpe\t I-gpe\n",
            "Resistance     I-gpe\t I-gpe\n",
            "Resistance     I-gpe\t I-gpe\n",
            "Resistance     I-gpe\t I-gpe\n",
            "Resistance     I-gpe\t I-gpe\n",
            "Resistance     I-gpe\t I-gpe\n",
            "Resistance     I-gpe\t I-gpe\n",
            "Resistance     I-gpe\t I-gpe\n",
            "Resistance     I-gpe\t I-gpe\n",
            "Resistance     I-gpe\t I-gpe\n",
            "Resistance     I-gpe\t I-gpe\n",
            "Resistance     I-gpe\t I-gpe\n",
            "Resistance     I-gpe\t I-gpe\n",
            "Resistance     I-gpe\t I-gpe\n",
            "Resistance     I-gpe\t I-gpe\n",
            "Resistance     I-gpe\t I-gpe\n",
            "Resistance     I-gpe\t I-gpe\n",
            "Resistance     I-gpe\t I-gpe\n",
            "Resistance     I-gpe\t I-gpe\n",
            "Resistance     I-gpe\t I-gpe\n",
            "Resistance     I-gpe\t I-gpe\n",
            "Resistance     I-gpe\t I-gpe\n",
            "Resistance     I-gpe\t I-gpe\n",
            "Resistance     I-gpe\t I-gpe\n",
            "Resistance     I-gpe\t I-gpe\n",
            "Resistance     I-gpe\t I-gpe\n",
            "Resistance     I-gpe\t I-gpe\n",
            "Resistance     I-gpe\t I-gpe\n"
          ]
        }
      ],
      "source": [
        "i = np.random.randint(0,x_test.shape[0])\n",
        "p = model.predict(np.array([x_test[i]]))\n",
        "p = np.argmax(p, axis=-1)\n",
        "\n",
        "y_true=np.argmax(np.array(y_test),axis=-1)[i]\n",
        "print(\"{:15} ({:5}): {}\".format(\"Word\", \"True\", \"Predicted by our Model\"))\n",
        "\n",
        "print(\"--\"*20)\n",
        "\n",
        "for w,true,pred in zip(x_test[i],y_true,p[0]):\n",
        "    print(\"{:15}{}\\t {}\".format(words[w-1],tags[true],tags[pred]))"
      ]
    },
    {
      "cell_type": "code",
      "execution_count": null,
      "metadata": {
        "colab": {
          "background_save": true
        },
        "id": "_34pbIvm97qx",
        "outputId": "776d8a73-622a-40f3-8029-5aa23c56018b"
      },
      "outputs": [
        {
          "data": {
            "text/plain": [
              "array([12, 12, 12, 12, 12, 12, 12, 12, 12, 12, 12,  0,  0,  0,  0,  0,  0,\n",
              "        0,  0,  0,  0,  0,  0,  0,  0,  0,  0,  0,  0,  0,  0,  0,  0,  0,\n",
              "        0,  0,  0,  0,  0,  0,  0,  0,  0,  0,  0,  0,  0,  0,  0,  0,  0,\n",
              "        0,  0,  0,  0,  0,  0,  0,  0,  0,  0,  0,  0,  0,  0,  0,  0,  0,\n",
              "        0,  0,  0,  0,  0,  0,  0,  0,  0,  0,  0,  0,  0,  0,  0,  0,  0,\n",
              "        0,  0,  0,  0,  0,  0,  0,  0,  0,  0,  0,  0,  0,  0,  0,  0,  0,\n",
              "        0,  0])"
            ]
          },
          "execution_count": null,
          "metadata": {},
          "output_type": "execute_result"
        }
      ],
      "source": [
        "p[0]"
      ]
    },
    {
      "cell_type": "code",
      "execution_count": null,
      "metadata": {
        "colab": {
          "background_save": true
        },
        "id": "5J48VMmF97qx",
        "outputId": "ad3d8fb4-7812-4782-fb25-dc657ee636e8"
      },
      "outputs": [
        {
          "name": "stdout",
          "output_type": "stream",
          "text": [
            "Word            (True ): Predicted by our Model\n",
            "--------------------\n",
            "direct         O\t O\n",
            "collaboration  B-org\t B-org\n",
            "housekeeping   I-org\t I-org\n",
            "condemning     I-org\t I-org\n",
            "Sum-41         O\t O\n",
            "depending      O\t O\n",
            "05-Feb         B-per\t O\n",
            "human          I-per\t I-per\n",
            "depending      O\t O\n",
            "linguistic     O\t O\n",
            "ensures        O\t O\n",
            "154            O\t O\n",
            "schools        O\t O\n",
            "couples        O\t O\n",
            "Liege          O\t O\n",
            "demolishing    O\t O\n",
            "Henk           O\t O\n",
            "Raccoon        B-org\t B-org\n",
            "depending      I-org\t O\n",
            "Center-left    I-org\t B-org\n",
            "depending      O\t O\n",
            "fleece         B-org\t I-org\n",
            "depending      O\t O\n",
            "Thailand       B-org\t I-org\n",
            "depending      O\t O\n",
            "lawfully       B-org\t O\n",
            "depending      I-org\t O\n",
            "expires        I-org\t B-org\n",
            "level          I-org\t O\n",
            "Iacovou        I-org\t O\n",
            "wisdom         O\t O\n",
            "Resistance     I-gpe\t I-gpe\n",
            "Resistance     I-gpe\t I-gpe\n",
            "Resistance     I-gpe\t I-gpe\n",
            "Resistance     I-gpe\t I-gpe\n",
            "Resistance     I-gpe\t I-gpe\n",
            "Resistance     I-gpe\t I-gpe\n",
            "Resistance     I-gpe\t I-gpe\n",
            "Resistance     I-gpe\t I-gpe\n",
            "Resistance     I-gpe\t I-gpe\n",
            "Resistance     I-gpe\t I-gpe\n",
            "Resistance     I-gpe\t I-gpe\n",
            "Resistance     I-gpe\t I-gpe\n",
            "Resistance     I-gpe\t I-gpe\n",
            "Resistance     I-gpe\t I-gpe\n",
            "Resistance     I-gpe\t I-gpe\n",
            "Resistance     I-gpe\t I-gpe\n",
            "Resistance     I-gpe\t I-gpe\n",
            "Resistance     I-gpe\t I-gpe\n",
            "Resistance     I-gpe\t I-gpe\n",
            "Resistance     I-gpe\t I-gpe\n",
            "Resistance     I-gpe\t I-gpe\n",
            "Resistance     I-gpe\t I-gpe\n",
            "Resistance     I-gpe\t I-gpe\n",
            "Resistance     I-gpe\t I-gpe\n",
            "Resistance     I-gpe\t I-gpe\n",
            "Resistance     I-gpe\t I-gpe\n",
            "Resistance     I-gpe\t I-gpe\n",
            "Resistance     I-gpe\t I-gpe\n",
            "Resistance     I-gpe\t I-gpe\n",
            "Resistance     I-gpe\t I-gpe\n",
            "Resistance     I-gpe\t I-gpe\n",
            "Resistance     I-gpe\t I-gpe\n",
            "Resistance     I-gpe\t I-gpe\n",
            "Resistance     I-gpe\t I-gpe\n",
            "Resistance     I-gpe\t I-gpe\n",
            "Resistance     I-gpe\t I-gpe\n",
            "Resistance     I-gpe\t I-gpe\n",
            "Resistance     I-gpe\t I-gpe\n",
            "Resistance     I-gpe\t I-gpe\n",
            "Resistance     I-gpe\t I-gpe\n",
            "Resistance     I-gpe\t I-gpe\n",
            "Resistance     I-gpe\t I-gpe\n",
            "Resistance     I-gpe\t I-gpe\n",
            "Resistance     I-gpe\t I-gpe\n",
            "Resistance     I-gpe\t I-gpe\n",
            "Resistance     I-gpe\t I-gpe\n",
            "Resistance     I-gpe\t I-gpe\n",
            "Resistance     I-gpe\t I-gpe\n",
            "Resistance     I-gpe\t I-gpe\n",
            "Resistance     I-gpe\t I-gpe\n",
            "Resistance     I-gpe\t I-gpe\n",
            "Resistance     I-gpe\t I-gpe\n",
            "Resistance     I-gpe\t I-gpe\n",
            "Resistance     I-gpe\t I-gpe\n",
            "Resistance     I-gpe\t I-gpe\n",
            "Resistance     I-gpe\t I-gpe\n",
            "Resistance     I-gpe\t I-gpe\n",
            "Resistance     I-gpe\t I-gpe\n",
            "Resistance     I-gpe\t I-gpe\n",
            "Resistance     I-gpe\t I-gpe\n",
            "Resistance     I-gpe\t I-gpe\n",
            "Resistance     I-gpe\t I-gpe\n",
            "Resistance     I-gpe\t I-gpe\n",
            "Resistance     I-gpe\t I-gpe\n",
            "Resistance     I-gpe\t I-gpe\n",
            "Resistance     I-gpe\t I-gpe\n",
            "Resistance     I-gpe\t I-gpe\n",
            "Resistance     I-gpe\t I-gpe\n",
            "Resistance     I-gpe\t I-gpe\n",
            "Resistance     I-gpe\t I-gpe\n",
            "Resistance     I-gpe\t I-gpe\n",
            "Resistance     I-gpe\t I-gpe\n",
            "Resistance     I-gpe\t I-gpe\n"
          ]
        }
      ],
      "source": [
        "i = np.random.randint(0,x_test.shape[0])\n",
        "p = model.predict(np.array([x_test[i]]))\n",
        "p = np.argmax(p, axis=-1)\n",
        "\n",
        "y_true=np.argmax(np.array(y_test),axis=-1)[i]\n",
        "print(\"{:15} ({:5}): {}\".format(\"Word\", \"True\", \"Predicted by our Model\"))\n",
        "\n",
        "print(\"--\"*10)\n",
        "\n",
        "for w,true,pred in zip(x_test[i],y_true,p[0]):\n",
        "    print(\"{:15}{}\\t {}\".format(words[w-1],tags[true],tags[pred]))"
      ]
    },
    {
      "cell_type": "code",
      "execution_count": null,
      "metadata": {
        "colab": {
          "background_save": true
        },
        "id": "PLzpT36sDzdz",
        "outputId": "3a2a59c8-24ff-4a58-f0e4-f391ecaf1bb0"
      },
      "outputs": [
        {
          "name": "stderr",
          "output_type": "stream",
          "text": [
            "/usr/local/lib/python3.7/dist-packages/seqeval/metrics/v1.py:57: UndefinedMetricWarning: Precision and F-score are ill-defined and being set to 0.0 in labels with no predicted samples. Use `zero_division` parameter to control this behavior.\n",
            "  _warn_prf(average, modifier, msg_start, len(result))\n"
          ]
        }
      ],
      "source": [
        "report=classification_report(test_labels, pred_labels,output_dict=True)\n",
        "df = pd.DataFrame(report)\n",
        "df\n",
        "df.to_csv('proposed.csv')"
      ]
    },
    {
      "cell_type": "code",
      "execution_count": null,
      "metadata": {
        "colab": {
          "background_save": true
        },
        "id": "UV3bB3x1P2g9",
        "outputId": "01cdecb1-10a8-45bc-e4ed-7fc06c77e596"
      },
      "outputs": [
        {
          "name": "stderr",
          "output_type": "stream",
          "text": [
            "/usr/local/lib/python3.7/dist-packages/seqeval/metrics/v1.py:57: UndefinedMetricWarning: Precision and F-score are ill-defined and being set to 0.0 in labels with no predicted samples. Use `zero_division` parameter to control this behavior.\n",
            "  _warn_prf(average, modifier, msg_start, len(result))\n"
          ]
        },
        {
          "data": {
            "text/plain": [
              "<matplotlib.axes._subplots.AxesSubplot at 0x7fe482d9c550>"
            ]
          },
          "execution_count": null,
          "metadata": {},
          "output_type": "execute_result"
        },
        {
          "data": {
            "image/png": "[encoded data removed]",
            "text/plain": [
              "<Figure size 432x288 with 2 Axes>"
            ]
          },
          "metadata": {},
          "output_type": "display_data"
        }
      ],
      "source": [
        "import seaborn as sns\n",
        "clf_report=classification_report(test_labels, pred_labels,output_dict=True)\n",
        "sns.heatmap(pd.DataFrame(clf_report).iloc[:-1, :].T, annot=True)"
      ]
    },
    {
      "cell_type": "code",
      "execution_count": null,
      "metadata": {
        "colab": {
          "background_save": true
        },
        "id": "JkHsH3aIMm-_",
        "outputId": "bc9902dd-ea65-47bd-cc2a-2d3d2e266c97"
      },
      "outputs": [
        {
          "data": {
            "text/plain": [
              "<matplotlib.axes._subplots.AxesSubplot at 0x7fe483297810>"
            ]
          },
          "execution_count": null,
          "metadata": {},
          "output_type": "execute_result"
        },
        {
          "data": {
            "image/png": "[encoded data removed]",
            "text/plain": [
              "<Figure size 432x288 with 1 Axes>"
            ]
          },
          "metadata": {},
          "output_type": "display_data"
        }
      ],
      "source": [
        "data = [['existing model', 98.57], ['propsed model', 99.28]]\n",
        "df = pd.DataFrame(data, columns = ['Model', 'Accuracy'])\n",
        "df.plot(x='Model',y='Accuracy',kind='bar')"
      ]
    }
  ],
  "metadata": {
    "colab": {
      "provenance": []
    },
    "kernelspec": {
      "display_name": "Python 3",
      "language": "python",
      "name": "python3"
    },
    "language_info": {
      "codemirror_mode": {
        "name": "ipython",
        "version": 3
      },
      "file_extension": ".py",
      "mimetype": "text/x-python",
      "name": "python",
      "nbconvert_exporter": "python",
      "pygments_lexer": "ipython3",
      "version": "3.6.4"
    }
  },
  "nbformat": 4,
  "nbformat_minor": 0
}